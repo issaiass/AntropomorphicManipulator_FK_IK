{
 "cells": [
  {
   "cell_type": "markdown",
   "id": "de5589b7",
   "metadata": {},
   "source": [
    "# Antropomorphic ARM Kinematics - Forward and Inverse"
   ]
  },
  {
   "cell_type": "code",
   "execution_count": 1,
   "id": "6c3d7a8e",
   "metadata": {},
   "outputs": [],
   "source": [
    "import math\n",
    "from sympy import *"
   ]
  },
  {
   "cell_type": "code",
   "execution_count": 2,
   "id": "358fff0c",
   "metadata": {},
   "outputs": [],
   "source": [
    "alpha = Symbol(\"alpha\")\n",
    "beta = Symbol(\"beta\")\n",
    "gamma = Symbol(\"gamma\")\n",
    "x = Symbol(\"x\")\n",
    "y = Symbol(\"y\")\n",
    "z = Symbol(\"z\")"
   ]
  },
  {
   "cell_type": "code",
   "execution_count": 3,
   "id": "3beeaa5f",
   "metadata": {},
   "outputs": [],
   "source": [
    "R_z = Matrix([[cos(alpha), -sin(alpha), 0],\n",
    "          [sin(alpha), cos(alpha), 0],\n",
    "          [0, 0, 1]])\n",
    "\n",
    "\n",
    "R_y = Matrix([[cos(beta), 0, sin(beta)],\n",
    "          [0, 1, 0],\n",
    "          [-sin(beta), 0, cos(beta)]])\n",
    "\n",
    "\n",
    "R_x = Matrix([[1, -0, 0],\n",
    "          [0, cos(gamma), -sin(gamma)],\n",
    "          [0, sin(gamma), cos(gamma)]])\n",
    "\n",
    "# Translation Matirx\n",
    "T_x = Matrix([[x], [0], [0]])\n",
    "T_x = eye(3).row_join(T_x)\n",
    "uniform = Matrix([[0,0,0, 1]])"
   ]
  },
  {
   "cell_type": "code",
   "execution_count": 4,
   "id": "be66c2e3",
   "metadata": {},
   "outputs": [],
   "source": [
    "theta_1 = Symbol(\"theta_1\")\n",
    "theta_2 = Symbol(\"theta_2\")\n",
    "theta_3 = Symbol(\"theta_3\")\n",
    "\n",
    "r_1 = Symbol(\"r_1\")\n",
    "r_2 = Symbol(\"r_2\")\n",
    "r_3 = Symbol(\"r_3\")"
   ]
  },
  {
   "cell_type": "code",
   "execution_count": 5,
   "id": "c4892dea",
   "metadata": {},
   "outputs": [],
   "source": [
    "A01 = (R_x*R_y).row_join(Matrix([[0],[0],[0]])).col_join(uniform).replace(gamma, pi/2).replace(beta, theta_1)\n",
    "A12 = (R_z*T_x).col_join(uniform).replace(alpha, theta_2).replace(x, r_2)\n",
    "A23 = (R_z*T_x).col_join(uniform).replace(alpha, theta_3).replace(x, r_3)"
   ]
  },
  {
   "cell_type": "code",
   "execution_count": 6,
   "id": "fb16b043",
   "metadata": {},
   "outputs": [
    {
     "data": {
      "text/latex": [
       "$\\displaystyle \\left[\\begin{matrix}\\cos{\\left(\\theta_{1} \\right)} & 0 & \\sin{\\left(\\theta_{1} \\right)} & 0\\\\\\sin{\\left(\\theta_{1} \\right)} & 0 & - \\cos{\\left(\\theta_{1} \\right)} & 0\\\\0 & 1 & 0 & 0\\\\0 & 0 & 0 & 1\\end{matrix}\\right]$"
      ],
      "text/plain": [
       "Matrix([\n",
       "[cos(theta_1), 0,  sin(theta_1), 0],\n",
       "[sin(theta_1), 0, -cos(theta_1), 0],\n",
       "[           0, 1,             0, 0],\n",
       "[           0, 0,             0, 1]])"
      ]
     },
     "execution_count": 6,
     "metadata": {},
     "output_type": "execute_result"
    }
   ],
   "source": [
    "A01"
   ]
  },
  {
   "cell_type": "code",
   "execution_count": 7,
   "id": "54aad56f",
   "metadata": {},
   "outputs": [
    {
     "data": {
      "text/latex": [
       "$\\displaystyle \\left[\\begin{matrix}\\cos{\\left(\\theta_{2} \\right)} & - \\sin{\\left(\\theta_{2} \\right)} & 0 & r_{2} \\cos{\\left(\\theta_{2} \\right)}\\\\\\sin{\\left(\\theta_{2} \\right)} & \\cos{\\left(\\theta_{2} \\right)} & 0 & r_{2} \\sin{\\left(\\theta_{2} \\right)}\\\\0 & 0 & 1 & 0\\\\0 & 0 & 0 & 1\\end{matrix}\\right]$"
      ],
      "text/plain": [
       "Matrix([\n",
       "[cos(theta_2), -sin(theta_2), 0, r_2*cos(theta_2)],\n",
       "[sin(theta_2),  cos(theta_2), 0, r_2*sin(theta_2)],\n",
       "[           0,             0, 1,                0],\n",
       "[           0,             0, 0,                1]])"
      ]
     },
     "execution_count": 7,
     "metadata": {},
     "output_type": "execute_result"
    }
   ],
   "source": [
    "A12"
   ]
  },
  {
   "cell_type": "code",
   "execution_count": 8,
   "id": "9790a9e6",
   "metadata": {},
   "outputs": [
    {
     "data": {
      "text/latex": [
       "$\\displaystyle \\left[\\begin{matrix}\\cos{\\left(\\theta_{3} \\right)} & - \\sin{\\left(\\theta_{3} \\right)} & 0 & r_{3} \\cos{\\left(\\theta_{3} \\right)}\\\\\\sin{\\left(\\theta_{3} \\right)} & \\cos{\\left(\\theta_{3} \\right)} & 0 & r_{3} \\sin{\\left(\\theta_{3} \\right)}\\\\0 & 0 & 1 & 0\\\\0 & 0 & 0 & 1\\end{matrix}\\right]$"
      ],
      "text/plain": [
       "Matrix([\n",
       "[cos(theta_3), -sin(theta_3), 0, r_3*cos(theta_3)],\n",
       "[sin(theta_3),  cos(theta_3), 0, r_3*sin(theta_3)],\n",
       "[           0,             0, 1,                0],\n",
       "[           0,             0, 0,                1]])"
      ]
     },
     "execution_count": 8,
     "metadata": {},
     "output_type": "execute_result"
    }
   ],
   "source": [
    "A23"
   ]
  },
  {
   "cell_type": "code",
   "execution_count": 9,
   "id": "01a8a2a8",
   "metadata": {},
   "outputs": [
    {
     "data": {
      "text/latex": [
       "$\\displaystyle \\left[\\begin{matrix}- \\sin{\\left(\\theta_{2} \\right)} \\sin{\\left(\\theta_{3} \\right)} \\cos{\\left(\\theta_{1} \\right)} + \\cos{\\left(\\theta_{1} \\right)} \\cos{\\left(\\theta_{2} \\right)} \\cos{\\left(\\theta_{3} \\right)} & - \\sin{\\left(\\theta_{2} \\right)} \\cos{\\left(\\theta_{1} \\right)} \\cos{\\left(\\theta_{3} \\right)} - \\sin{\\left(\\theta_{3} \\right)} \\cos{\\left(\\theta_{1} \\right)} \\cos{\\left(\\theta_{2} \\right)} & \\sin{\\left(\\theta_{1} \\right)} & r_{2} \\cos{\\left(\\theta_{1} \\right)} \\cos{\\left(\\theta_{2} \\right)} - r_{3} \\sin{\\left(\\theta_{2} \\right)} \\sin{\\left(\\theta_{3} \\right)} \\cos{\\left(\\theta_{1} \\right)} + r_{3} \\cos{\\left(\\theta_{1} \\right)} \\cos{\\left(\\theta_{2} \\right)} \\cos{\\left(\\theta_{3} \\right)}\\\\- \\sin{\\left(\\theta_{1} \\right)} \\sin{\\left(\\theta_{2} \\right)} \\sin{\\left(\\theta_{3} \\right)} + \\sin{\\left(\\theta_{1} \\right)} \\cos{\\left(\\theta_{2} \\right)} \\cos{\\left(\\theta_{3} \\right)} & - \\sin{\\left(\\theta_{1} \\right)} \\sin{\\left(\\theta_{2} \\right)} \\cos{\\left(\\theta_{3} \\right)} - \\sin{\\left(\\theta_{1} \\right)} \\sin{\\left(\\theta_{3} \\right)} \\cos{\\left(\\theta_{2} \\right)} & - \\cos{\\left(\\theta_{1} \\right)} & r_{2} \\sin{\\left(\\theta_{1} \\right)} \\cos{\\left(\\theta_{2} \\right)} - r_{3} \\sin{\\left(\\theta_{1} \\right)} \\sin{\\left(\\theta_{2} \\right)} \\sin{\\left(\\theta_{3} \\right)} + r_{3} \\sin{\\left(\\theta_{1} \\right)} \\cos{\\left(\\theta_{2} \\right)} \\cos{\\left(\\theta_{3} \\right)}\\\\\\sin{\\left(\\theta_{2} \\right)} \\cos{\\left(\\theta_{3} \\right)} + \\sin{\\left(\\theta_{3} \\right)} \\cos{\\left(\\theta_{2} \\right)} & - \\sin{\\left(\\theta_{2} \\right)} \\sin{\\left(\\theta_{3} \\right)} + \\cos{\\left(\\theta_{2} \\right)} \\cos{\\left(\\theta_{3} \\right)} & 0 & r_{2} \\sin{\\left(\\theta_{2} \\right)} + r_{3} \\sin{\\left(\\theta_{2} \\right)} \\cos{\\left(\\theta_{3} \\right)} + r_{3} \\sin{\\left(\\theta_{3} \\right)} \\cos{\\left(\\theta_{2} \\right)}\\\\0 & 0 & 0 & 1\\end{matrix}\\right]$"
      ],
      "text/plain": [
       "Matrix([\n",
       "[-sin(theta_2)*sin(theta_3)*cos(theta_1) + cos(theta_1)*cos(theta_2)*cos(theta_3), -sin(theta_2)*cos(theta_1)*cos(theta_3) - sin(theta_3)*cos(theta_1)*cos(theta_2),  sin(theta_1), r_2*cos(theta_1)*cos(theta_2) - r_3*sin(theta_2)*sin(theta_3)*cos(theta_1) + r_3*cos(theta_1)*cos(theta_2)*cos(theta_3)],\n",
       "[-sin(theta_1)*sin(theta_2)*sin(theta_3) + sin(theta_1)*cos(theta_2)*cos(theta_3), -sin(theta_1)*sin(theta_2)*cos(theta_3) - sin(theta_1)*sin(theta_3)*cos(theta_2), -cos(theta_1), r_2*sin(theta_1)*cos(theta_2) - r_3*sin(theta_1)*sin(theta_2)*sin(theta_3) + r_3*sin(theta_1)*cos(theta_2)*cos(theta_3)],\n",
       "[                           sin(theta_2)*cos(theta_3) + sin(theta_3)*cos(theta_2),                           -sin(theta_2)*sin(theta_3) + cos(theta_2)*cos(theta_3),             0,                                        r_2*sin(theta_2) + r_3*sin(theta_2)*cos(theta_3) + r_3*sin(theta_3)*cos(theta_2)],\n",
       "[                                                                               0,                                                                                0,             0,                                                                                                                       1]])"
      ]
     },
     "execution_count": 9,
     "metadata": {},
     "output_type": "execute_result"
    }
   ],
   "source": [
    "A03 = A01*A12*A23\n",
    "A03"
   ]
  },
  {
   "cell_type": "code",
   "execution_count": 10,
   "id": "fd355a92",
   "metadata": {},
   "outputs": [
    {
     "data": {
      "text/latex": [
       "$\\displaystyle \\left[\\begin{matrix}\\cos{\\left(\\theta_{1} \\right)} \\cos{\\left(\\theta_{2} + \\theta_{3} \\right)} & - \\sin{\\left(\\theta_{2} + \\theta_{3} \\right)} \\cos{\\left(\\theta_{1} \\right)} & \\sin{\\left(\\theta_{1} \\right)} & \\left(r_{2} \\cos{\\left(\\theta_{2} \\right)} + r_{3} \\cos{\\left(\\theta_{2} + \\theta_{3} \\right)}\\right) \\cos{\\left(\\theta_{1} \\right)}\\\\\\sin{\\left(\\theta_{1} \\right)} \\cos{\\left(\\theta_{2} + \\theta_{3} \\right)} & - \\sin{\\left(\\theta_{1} \\right)} \\sin{\\left(\\theta_{2} + \\theta_{3} \\right)} & - \\cos{\\left(\\theta_{1} \\right)} & \\left(r_{2} \\cos{\\left(\\theta_{2} \\right)} + r_{3} \\cos{\\left(\\theta_{2} + \\theta_{3} \\right)}\\right) \\sin{\\left(\\theta_{1} \\right)}\\\\\\sin{\\left(\\theta_{2} + \\theta_{3} \\right)} & \\cos{\\left(\\theta_{2} + \\theta_{3} \\right)} & 0 & r_{2} \\sin{\\left(\\theta_{2} \\right)} + r_{3} \\sin{\\left(\\theta_{2} + \\theta_{3} \\right)}\\\\0 & 0 & 0 & 1\\end{matrix}\\right]$"
      ],
      "text/plain": [
       "Matrix([\n",
       "[cos(theta_1)*cos(theta_2 + theta_3), -sin(theta_2 + theta_3)*cos(theta_1),  sin(theta_1), (r_2*cos(theta_2) + r_3*cos(theta_2 + theta_3))*cos(theta_1)],\n",
       "[sin(theta_1)*cos(theta_2 + theta_3), -sin(theta_1)*sin(theta_2 + theta_3), -cos(theta_1), (r_2*cos(theta_2) + r_3*cos(theta_2 + theta_3))*sin(theta_1)],\n",
       "[             sin(theta_2 + theta_3),               cos(theta_2 + theta_3),             0,                r_2*sin(theta_2) + r_3*sin(theta_2 + theta_3)],\n",
       "[                                  0,                                    0,             0,                                                            1]])"
      ]
     },
     "execution_count": 10,
     "metadata": {},
     "output_type": "execute_result"
    }
   ],
   "source": [
    "A03simp = trigsimp(A03)\n",
    "A03simp"
   ]
  },
  {
   "cell_type": "code",
   "execution_count": 11,
   "id": "18678cb8",
   "metadata": {},
   "outputs": [
    {
     "data": {
      "text/latex": [
       "$\\displaystyle \\left[\\begin{matrix}\\cos{\\left(\\theta_{1} \\right)} \\cos{\\left(\\theta_{2} + \\theta_{3} \\right)} & - \\sin{\\left(\\theta_{2} + \\theta_{3} \\right)} \\cos{\\left(\\theta_{1} \\right)} & \\sin{\\left(\\theta_{1} \\right)} & \\left(\\cos{\\left(\\theta_{2} \\right)} + \\cos{\\left(\\theta_{2} + \\theta_{3} \\right)}\\right) \\cos{\\left(\\theta_{1} \\right)}\\\\\\sin{\\left(\\theta_{1} \\right)} \\cos{\\left(\\theta_{2} + \\theta_{3} \\right)} & - \\sin{\\left(\\theta_{1} \\right)} \\sin{\\left(\\theta_{2} + \\theta_{3} \\right)} & - \\cos{\\left(\\theta_{1} \\right)} & \\left(\\cos{\\left(\\theta_{2} \\right)} + \\cos{\\left(\\theta_{2} + \\theta_{3} \\right)}\\right) \\sin{\\left(\\theta_{1} \\right)}\\\\\\sin{\\left(\\theta_{2} + \\theta_{3} \\right)} & \\cos{\\left(\\theta_{2} + \\theta_{3} \\right)} & 0 & \\sin{\\left(\\theta_{2} \\right)} + \\sin{\\left(\\theta_{2} + \\theta_{3} \\right)}\\\\0 & 0 & 0 & 1\\end{matrix}\\right]$"
      ],
      "text/plain": [
       "Matrix([\n",
       "[cos(theta_1)*cos(theta_2 + theta_3), -sin(theta_2 + theta_3)*cos(theta_1),  sin(theta_1), (cos(theta_2) + cos(theta_2 + theta_3))*cos(theta_1)],\n",
       "[sin(theta_1)*cos(theta_2 + theta_3), -sin(theta_1)*sin(theta_2 + theta_3), -cos(theta_1), (cos(theta_2) + cos(theta_2 + theta_3))*sin(theta_1)],\n",
       "[             sin(theta_2 + theta_3),               cos(theta_2 + theta_3),             0,                sin(theta_2) + sin(theta_2 + theta_3)],\n",
       "[                                  0,                                    0,             0,                                                    1]])"
      ]
     },
     "execution_count": 11,
     "metadata": {},
     "output_type": "execute_result"
    }
   ],
   "source": [
    "A03simpeval = trigsimp(A03.subs(r_2, 1).subs(r_3, 1))\n",
    "A03simpeval"
   ]
  },
  {
   "cell_type": "code",
   "execution_count": 12,
   "id": "510ed974",
   "metadata": {
    "scrolled": false
   },
   "outputs": [
    {
     "data": {
      "text/latex": [
       "$\\displaystyle \\left[\\begin{matrix}1 & 0 & 0 & 2\\\\0 & 0 & -1 & 0\\\\0 & 1 & 0 & 0\\\\0 & 0 & 0 & 1\\end{matrix}\\right]$"
      ],
      "text/plain": [
       "Matrix([\n",
       "[1, 0,  0, 2],\n",
       "[0, 0, -1, 0],\n",
       "[0, 1,  0, 0],\n",
       "[0, 0,  0, 1]])"
      ]
     },
     "execution_count": 12,
     "metadata": {},
     "output_type": "execute_result"
    }
   ],
   "source": [
    "r_1_val = 0\n",
    "r_2_val = 1\n",
    "r_3_val = 1\n",
    "\n",
    "theta1 = 0\n",
    "theta2 = 0\n",
    "theta3 = 0\n",
    "\n",
    "A03eval = A03simp.subs(theta_1, theta1).subs(theta_2, theta2).subs(theta_3, theta3).subs(r_1, r_1_val).subs(r_2, r_2_val).subs(r_3, r_3_val)\n",
    "A03eval"
   ]
  },
  {
   "cell_type": "code",
   "execution_count": 13,
   "id": "e37bdcc7",
   "metadata": {},
   "outputs": [
    {
     "data": {
      "text/latex": [
       "$\\displaystyle \\left[\\begin{matrix}0.117990036096994 & -0.69719319516317 & 0.707106781186548 & -0.5\\\\-0.117990036096994 & 0.69719319516317 & 0.707106781186547 & 0.5\\\\-0.985980072193987 & -0.166863109273259 & 0 & -0.5\\\\0 & 0 & 0 & 1\\end{matrix}\\right]$"
      ],
      "text/plain": [
       "Matrix([\n",
       "[ 0.117990036096994,  -0.69719319516317, 0.707106781186548, -0.5],\n",
       "[-0.117990036096994,   0.69719319516317, 0.707106781186547,  0.5],\n",
       "[-0.985980072193987, -0.166863109273259,                 0, -0.5],\n",
       "[                 0,                  0,                 0,    1]])"
      ]
     },
     "execution_count": 13,
     "metadata": {},
     "output_type": "execute_result"
    }
   ],
   "source": [
    "r_1_val = 0\n",
    "r_2_val = 1\n",
    "r_3_val = 1\n",
    "theta1 = 2.356194490192345\n",
    "theta2 = 0.5074842211955768\n",
    "theta3 = -2.2459278597319283\n",
    "\n",
    "A03eval = A03simp.subs(theta_1, theta1).subs(theta_2, theta2).subs(theta_3, theta3).subs(r_1, r_1_val).subs(r_2, r_2_val).subs(r_3, r_3_val)\n",
    "A03eval"
   ]
  },
  {
   "cell_type": "markdown",
   "id": "3a573e73",
   "metadata": {},
   "source": [
    "## Inverse Kinematics"
   ]
  },
  {
   "cell_type": "code",
   "execution_count": 14,
   "id": "80c10f9d",
   "metadata": {},
   "outputs": [],
   "source": [
    "x_val = 0.5\n",
    "y_val = 0.6\n",
    "z_val = 0.7\n",
    "r_2_val = 1.0\n",
    "r_3_val = 1.0"
   ]
  },
  {
   "cell_type": "code",
   "execution_count": 15,
   "id": "248e6e7e",
   "metadata": {},
   "outputs": [
    {
     "data": {
      "text/latex": [
       "$\\displaystyle \\operatorname{atan}_{2}{\\left(y,x \\right)}$"
      ],
      "text/plain": [
       "atan2(y, x)"
      ]
     },
     "execution_count": 15,
     "metadata": {},
     "output_type": "execute_result"
    }
   ],
   "source": [
    "iktheta1 = atan2(y,x)\n",
    "iktheta1"
   ]
  },
  {
   "cell_type": "code",
   "execution_count": 28,
   "id": "398d3d18",
   "metadata": {},
   "outputs": [
    {
     "data": {
      "text/latex": [
       "$\\displaystyle 0.876058050598193$"
      ],
      "text/plain": [
       "0.876058050598193"
      ]
     },
     "execution_count": 28,
     "metadata": {},
     "output_type": "execute_result"
    }
   ],
   "source": [
    "iktheta1subs = iktheta1.subs(x, x_val).subs(y, y_val)\n",
    "iktheta1subs"
   ]
  },
  {
   "cell_type": "code",
   "execution_count": 17,
   "id": "220d3e58",
   "metadata": {},
   "outputs": [
    {
     "data": {
      "text/latex": [
       "$\\displaystyle \\frac{- r_{2} - r_{3} + x^{2} + y^{2} + z^{2}}{2 r_{2} r_{3}}$"
      ],
      "text/plain": [
       "(-r_2 - r_3 + x**2 + y**2 + z**2)/(2*r_2*r_3)"
      ]
     },
     "execution_count": 17,
     "metadata": {},
     "output_type": "execute_result"
    }
   ],
   "source": [
    "D = (x**2 + y**2 + z**2 -r_2 - r_3)/(2*r_2*r_3)\n",
    "D"
   ]
  },
  {
   "cell_type": "code",
   "execution_count": 18,
   "id": "3456d22e",
   "metadata": {},
   "outputs": [
    {
     "data": {
      "text/latex": [
       "$\\displaystyle -0.45$"
      ],
      "text/plain": [
       "-0.450000000000000"
      ]
     },
     "execution_count": 18,
     "metadata": {},
     "output_type": "execute_result"
    }
   ],
   "source": [
    "Dsub = D.subs(x, x_val).subs(y, y_val).subs(z, z_val).subs(r_2, r_2_val).subs(r_3, r_3_val)\n",
    "Dsub"
   ]
  },
  {
   "cell_type": "code",
   "execution_count": 19,
   "id": "cdf53bff",
   "metadata": {},
   "outputs": [
    {
     "data": {
      "text/latex": [
       "$\\displaystyle \\pm$"
      ],
      "text/plain": [
       "\\pm"
      ]
     },
     "execution_count": 19,
     "metadata": {},
     "output_type": "execute_result"
    }
   ],
   "source": [
    "pm = Symbol(\"\\pm\")\n",
    "pm"
   ]
  },
  {
   "cell_type": "code",
   "execution_count": 20,
   "id": "dbd55e66",
   "metadata": {},
   "outputs": [
    {
     "data": {
      "text/latex": [
       "$\\displaystyle \\operatorname{atan}_{2}{\\left(\\sqrt{1 - \\frac{\\left(- r_{2} - r_{3} + x^{2} + y^{2} + z^{2}\\right)^{2}}{4 r_{2}^{2} r_{3}^{2}}},\\frac{- r_{2} - r_{3} + x^{2} + y^{2} + z^{2}}{2 r_{2} r_{3}} \\right)}$"
      ],
      "text/plain": [
       "atan2(sqrt(1 - (-r_2 - r_3 + x**2 + y**2 + z**2)**2/(4*r_2**2*r_3**2)), (-r_2 - r_3 + x**2 + y**2 + z**2)/(2*r_2*r_3))"
      ]
     },
     "execution_count": 20,
     "metadata": {},
     "output_type": "execute_result"
    }
   ],
   "source": [
    "iktheta3 = atan2(sqrt(1 - D**2), D)\n",
    "iktheta3"
   ]
  },
  {
   "cell_type": "code",
   "execution_count": 21,
   "id": "158a26a7",
   "metadata": {},
   "outputs": [],
   "source": [
    "iktheta3p = iktheta3\n",
    "iktheta3m = -iktheta3"
   ]
  },
  {
   "cell_type": "code",
   "execution_count": 30,
   "id": "f822b26d",
   "metadata": {},
   "outputs": [
    {
     "data": {
      "text/latex": [
       "$\\displaystyle 2.03756$"
      ],
      "text/plain": [
       "2.03756"
      ]
     },
     "execution_count": 30,
     "metadata": {},
     "output_type": "execute_result"
    }
   ],
   "source": [
    "iktheta3psubs = iktheta3p.subs(x, x_val).subs(y, y_val).subs(z, z_val).subs(r_2, r_2_val).subs(r_3, r_3_val)\n",
    "round(iktheta3psubs, 5)"
   ]
  },
  {
   "cell_type": "code",
   "execution_count": 23,
   "id": "73caf553",
   "metadata": {},
   "outputs": [
    {
     "data": {
      "text/latex": [
       "$\\displaystyle 1.1040309877476 - \\pi$"
      ],
      "text/plain": [
       "1.1040309877476 - pi"
      ]
     },
     "execution_count": 23,
     "metadata": {},
     "output_type": "execute_result"
    }
   ],
   "source": [
    "iktheta3msubs = iktheta3m.subs(x, x_val).subs(y, y_val).subs(z, z_val).subs(r_2, r_2_val).subs(r_3, r_3_val)\n",
    "iktheta3msubs"
   ]
  },
  {
   "cell_type": "code",
   "execution_count": 24,
   "id": "1c7d8dd9",
   "metadata": {},
   "outputs": [
    {
     "data": {
      "text/latex": [
       "$\\displaystyle \\operatorname{atan}_{2}{\\left(z,\\sqrt{x^{2} + y^{2}} \\right)} - \\operatorname{atan}_{2}{\\left(r_{3} \\sin{\\left(\\theta_{3} \\right)},r_{2} + r_{3} \\cos{\\left(\\theta_{3} \\right)} \\right)}$"
      ],
      "text/plain": [
       "atan2(z, sqrt(x**2 + y**2)) - atan2(r_3*sin(theta_3), r_2 + r_3*cos(theta_3))"
      ]
     },
     "execution_count": 24,
     "metadata": {},
     "output_type": "execute_result"
    }
   ],
   "source": [
    "iktheta2 = atan2(z,sqrt(x**2+y**2)) - atan2(r_3*sin(theta_3),(r_2+r_3*cos(theta_3)))\n",
    "iktheta2"
   ]
  },
  {
   "cell_type": "code",
   "execution_count": 25,
   "id": "46a9b4d7",
   "metadata": {},
   "outputs": [
    {
     "data": {
      "text/latex": [
       "$\\displaystyle -0.2880368969324$"
      ],
      "text/plain": [
       "-0.288036896932400"
      ]
     },
     "execution_count": 25,
     "metadata": {},
     "output_type": "execute_result"
    }
   ],
   "source": [
    "iktheta2psubs = iktheta2.subs(x, x_val).subs(y, y_val).subs(z, z_val).subs(r_2, r_2_val).subs(r_3, r_3_val).subs(theta_3, iktheta3psubs)\n",
    "iktheta2psubs"
   ]
  },
  {
   "cell_type": "code",
   "execution_count": 26,
   "id": "abfe81a2",
   "metadata": {},
   "outputs": [
    {
     "data": {
      "text/latex": [
       "$\\displaystyle 1.74952476890979$"
      ],
      "text/plain": [
       "1.74952476890979"
      ]
     },
     "execution_count": 26,
     "metadata": {},
     "output_type": "execute_result"
    }
   ],
   "source": [
    "iktheta2msubs = iktheta2.subs(x, x_val).subs(y, y_val).subs(z, z_val).subs(r_2, r_2_val).subs(r_3, r_3_val).subs(theta_3, iktheta3msubs)\n",
    "iktheta2msubs"
   ]
  },
  {
   "cell_type": "code",
   "execution_count": 33,
   "id": "c621fc4c",
   "metadata": {},
   "outputs": [
    {
     "data": {
      "text/plain": [
       "(0.876058050598193, -0.288036896932400, 2.03756166584219)"
      ]
     },
     "execution_count": 33,
     "metadata": {},
     "output_type": "execute_result"
    }
   ],
   "source": [
    "iktheta1subs, iktheta2psubs, round(iktheta3psubs, 15)"
   ]
  },
  {
   "cell_type": "code",
   "execution_count": 34,
   "id": "a1bd7643",
   "metadata": {},
   "outputs": [
    {
     "data": {
      "text/plain": [
       "(0.876058050598193, -0.288036896932400, -2.03756166584219)"
      ]
     },
     "execution_count": 34,
     "metadata": {},
     "output_type": "execute_result"
    }
   ],
   "source": [
    "iktheta1subs, iktheta2psubs, round(iktheta3msubs, 15)"
   ]
  },
  {
   "cell_type": "code",
   "execution_count": 35,
   "id": "9275a79f",
   "metadata": {},
   "outputs": [
    {
     "data": {
      "text/plain": [
       "(0.876058050598193, 1.74952476890979, 2.03756166584219)"
      ]
     },
     "execution_count": 35,
     "metadata": {},
     "output_type": "execute_result"
    }
   ],
   "source": [
    "iktheta1subs, iktheta2msubs, round(iktheta3psubs, 15)"
   ]
  },
  {
   "cell_type": "code",
   "execution_count": 36,
   "id": "b2a3857e",
   "metadata": {},
   "outputs": [
    {
     "data": {
      "text/plain": [
       "(0.876058050598193, 1.74952476890979, -2.03756166584219)"
      ]
     },
     "execution_count": 36,
     "metadata": {},
     "output_type": "execute_result"
    }
   ],
   "source": [
    "iktheta1subs, iktheta2msubs, round(iktheta3msubs, 15)"
   ]
  }
 ],
 "metadata": {
  "kernelspec": {
   "display_name": "Python 3 (ipykernel)",
   "language": "python",
   "name": "python3"
  },
  "language_info": {
   "codemirror_mode": {
    "name": "ipython",
    "version": 3
   },
   "file_extension": ".py",
   "mimetype": "text/x-python",
   "name": "python",
   "nbconvert_exporter": "python",
   "pygments_lexer": "ipython3",
   "version": "3.9.15"
  }
 },
 "nbformat": 4,
 "nbformat_minor": 5
}
